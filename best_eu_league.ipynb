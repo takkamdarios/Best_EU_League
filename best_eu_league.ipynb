{
  "cells": [
    {
      "cell_type": "markdown",
      "metadata": {
        "id": "-fzFFzvmFNmb"
      },
      "source": [
        "#Path"
      ]
    },
    {
      "cell_type": "code",
      "execution_count": null,
      "metadata": {
        "id": "QqwGPBLyFO6O"
      },
      "outputs": [],
      "source": [
        "ligue_1_url = 'https://www.ligue1.com/ranking'\n",
        "la_liga_url = 'https://www.laliga.com/en-GB/laliga-easports/standing'\n",
        "bundesliga_url = 'https://www.bundesliga.com/en/bundesliga/table'\n",
        "serie_a_url = 'https://www.legaseriea.it/en/serie-a/classifica'\n",
        "serie_a_api = 'https://www.legaseriea.it/api/stats/Classificacompleta'\n",
        "premier_league_url = 'https://www.premierleague.com/tables'\n",
        "premier_league_api = 'https://footballapi.pulselive.com/football/standings'\n",
        "dataset_brut_url = '/content/drive/MyDrive/4MAC/datasets/brut'\n",
        "dataset_processed_url = '/content/drive/MyDrive/4MAC/datasets/processed'"
      ]
    },
    {
      "cell_type": "code",
      "execution_count": 2,
      "metadata": {},
      "outputs": [],
      "source": [
        "#Import"
      ]
    },
    {
      "cell_type": "code",
      "execution_count": null,
      "metadata": {},
      "outputs": [],
      "source": [
        "from bs4 import BeautifulSoup as BS\n",
        "import os, os.path as path\n",
        "import requests as request\n",
        "from matplotlib import pyplot as plt\n",
        "import numpy as np\n",
        "from sklearn.linear_model import LinearRegression\n",
        "from sklearn.preprocessing import LabelEncoder, OneHotEncoder, StandardScaler\n",
        "from sklearn.metrics import r2_score, mean_squared_error\n",
        "import seaborn as sns\n",
        "from sklearn.preprocessing import PolynomialFeatures\n",
        "%matplotlib inline\n",
        "import json\n",
        "import pandas as pd\n",
        "from sklearn.model_selection import train_test_split, GridSearchCV\n",
        "from sklearn.ensemble import RandomForestRegressor\n",
        "from sklearn.pipeline import Pipeline"
      ]
    },
    {
      "cell_type": "code",
      "execution_count": 3,
      "metadata": {},
      "outputs": [],
      "source": [
        "#Constant"
      ]
    },
    {
      "cell_type": "code",
      "execution_count": null,
      "metadata": {},
      "outputs": [],
      "source": [
        "COLUMNS = ['id', 'team', 'point', 'played', 'won', 'drawn', 'lost', 'goal_scored', 'goal_conceded', 'goal_diff']\n",
        "SEASONS = {\n",
        "    '2022-2023':'2022-23',\n",
        "    '2021-2022':'2021-22',\n",
        "    '2020-2021':'2020-21',\n",
        "    '2019-2020':'2019-20',\n",
        "    '2018-2019':'2018-19'\n",
        "}\n",
        "HEADERS = {\n",
        "    'User-Agent': 'Mozilla/5.0 (Macintosh; Intel Mac OS X 10_11_5) \\\n",
        "                    AppleWebKit/537.36 (KHTML, like Gecko) Chrome/50.0.2661.102 Safari/537.36'\n",
        "}"
      ]
    },
    {
      "cell_type": "code",
      "execution_count": null,
      "metadata": {},
      "outputs": [],
      "source": [
        "#Function"
      ]
    },
    {
      "cell_type": "code",
      "execution_count": 4,
      "metadata": {},
      "outputs": [],
      "source": [
        "def append_team_data(team_list, id, name, point, played, won, drawn, lost, goal_scored, goal_conceded, goal_diff):\n",
        "    team = []\n",
        "    team.append(id)\n",
        "    team.append(name)\n",
        "    team.append(point)\n",
        "    team.append(played)\n",
        "    team.append(won)\n",
        "    team.append(drawn)\n",
        "    team.append(lost)\n",
        "    team.append(goal_scored)\n",
        "    team.append(goal_conceded)\n",
        "    team.append(goal_diff)\n",
        "\n",
        "    team_list.append(team)"
      ]
    },
    {
      "cell_type": "code",
      "execution_count": 5,
      "metadata": {},
      "outputs": [],
      "source": [
        "#Scraping"
      ]
    },
    {
      "cell_type": "code",
      "execution_count": 6,
      "metadata": {},
      "outputs": [],
      "source": [
        "##Ligue 1"
      ]
    },
    {
      "cell_type": "code",
      "execution_count": null,
      "metadata": {},
      "outputs": [],
      "source": [
        "params = {\n",
        "    'StatsActiveTab': 0\n",
        "}\n",
        "\n",
        "for season in SEASONS.keys():\n",
        "  team_list = []\n",
        "  params['seasonId'] = season\n",
        "  response = request.get(ligue_1_url, params= params, headers= HEADERS)\n",
        "  if response.ok:\n",
        "    soup= BS(response.content, 'lxml')\n",
        "    li_list = soup.find('div', class_='classement-table-body').find_all('li')\n",
        "\n",
        "    for li in li_list:\n",
        "      div_list = li.find_all('div')\n",
        "      id = int(div_list[0].string)\n",
        "      name = str.upper(div_list[1].span.string)\n",
        "      if season == '2019-2020':\n",
        "        point = int(div_list[3].string)\n",
        "        played = int(div_list[4].string)\n",
        "        won = int(div_list[5].string)\n",
        "        drawn = int(div_list[6].string)\n",
        "        lost = int(div_list[7].string)\n",
        "        goal_scored = int(div_list[8].string)\n",
        "        goal_conceded = int(div_list[9].string)\n",
        "        goal_diff = int(div_list[10].string)\n",
        "      else:\n",
        "        point = int(div_list[2].string)\n",
        "        played = int(div_list[3].string)\n",
        "        won = int(div_list[4].string)\n",
        "        drawn = int(div_list[5].string)\n",
        "        lost = int(div_list[6].string)\n",
        "        goal_scored = int(div_list[7].string)\n",
        "        goal_conceded = int(div_list[8].string)\n",
        "        goal_diff = int(div_list[9].string)\n",
        "\n",
        "      append_team_data(team_list, id, name, point, played, won, drawn, lost, goal_scored, goal_conceded, goal_diff)\n",
        "\n",
        "  df = pd.DataFrame(team_list, columns=COLUMNS)\n",
        "  df.to_csv(path.join(dataset_brut_url+'/ligue1', season+'.csv'), header=True, index= False)\n"
      ]
    },
    {
      "cell_type": "code",
      "execution_count": 8,
      "metadata": {},
      "outputs": [],
      "source": [
        "##Bundesliga"
      ]
    },
    {
      "cell_type": "code",
      "execution_count": null,
      "metadata": {},
      "outputs": [],
      "source": [
        "for season in SEASONS.keys():\n",
        "  team_list = []\n",
        "  response = request.get(bundesliga_url+f\"/{season}\", headers= HEADERS)\n",
        "  if response.ok:\n",
        "    soup= BS(response.content, 'lxml')\n",
        "    tr_list = soup.tbody.find_all('tr')\n",
        "    for tr in tr_list:\n",
        "      td_list = tr.find_all('td')\n",
        "      id = int(td_list[1].span.string)\n",
        "      name = str.upper(td_list[3].div['title'])\n",
        "      point = int(td_list[11].span.string)\n",
        "      played = int(td_list[5].span.string)\n",
        "      won = int(td_list[6].span.string)\n",
        "      drawn = int(td_list[7].span.string)\n",
        "      lost = int(td_list[8].span.string)\n",
        "      gs, gc = td_list[9].string.split(':')\n",
        "      goal_scored = int(gs)\n",
        "      goal_conceded = int(gc)\n",
        "      goal_diff = int(td_list[10].span.string)\n",
        "\n",
        "      append_team_data(team_list, id, name, point, played, won, drawn, lost, goal_scored, goal_conceded, goal_diff)\n",
        "\n",
        "  df = pd.DataFrame(team_list, columns=COLUMNS)\n",
        "  df.to_csv(path.join(dataset_brut_url+'/bundesliga', season+'.csv'), header=True, index= False)\n",
        "\n"
      ]
    },
    {
      "cell_type": "code",
      "execution_count": 9,
      "metadata": {},
      "outputs": [],
      "source": [
        "##Serie A"
      ]
    },
    {
      "cell_type": "code",
      "execution_count": null,
      "metadata": {},
      "outputs": [],
      "source": [
        "params = {\n",
        "    'CAMPIONATO': 'A',\n",
        "    'TURNO': 'UNICO',\n",
        "    'GIRONE': 'UNI'\n",
        "}\n",
        "\n",
        "for season, param in SEASONS.items():\n",
        "  team_list = []\n",
        "  params['STAGIONE'] = param\n",
        "  response = request.get(serie_a_api, params= params, headers= HEADERS)\n",
        "  if response.ok:\n",
        "    data = json.loads(response.text)['data']\n",
        "    for team in data:\n",
        "      id = team['PosCls']\n",
        "      name = team['Nome']\n",
        "      point = team['PuntiCls']\n",
        "      played = team['Giocate']\n",
        "      won = team['Vinte']\n",
        "      drawn = team['Pareggiate']\n",
        "      lost = team['Perse']\n",
        "      goal_scored = team['RETIFATTE']\n",
        "      goal_conceded = team['RETISUBITE']\n",
        "      goal_diff = team['RETIFATTE'] - team['RETISUBITE']\n",
        "\n",
        "      append_team_data(team_list, id, name, point, played, won, drawn, lost, goal_scored, goal_conceded, goal_diff)\n",
        "\n",
        "  df = pd.DataFrame(team_list, columns=COLUMNS)\n",
        "  df.to_csv(path.join(dataset_brut_url+'/seriea', season+'.csv'), header=True, index= False)\n"
      ]
    },
    {
      "cell_type": "code",
      "execution_count": 10,
      "metadata": {},
      "outputs": [],
      "source": [
        "##Premier League"
      ]
    },
    {
      "cell_type": "code",
      "execution_count": null,
      "metadata": {},
      "outputs": [],
      "source": [
        "params = {\n",
        "    'altIds': True,\n",
        "    'detail': 2,\n",
        "    'FOOTBALL_COMPETITION': 1\n",
        "}\n",
        "seasons = {\n",
        "    '2022-2023':489,\n",
        "    '2021-2022':418,\n",
        "    '2020-2021':363,\n",
        "    '2019-2020':274,\n",
        "    '2018-2019':210\n",
        "}\n",
        "header = {\n",
        "    'origin': 'https://www.premierleague.com'\n",
        "}\n",
        "\n",
        "for season, param in seasons.items():\n",
        "  team_list = []\n",
        "  params['compSeasons'] = param\n",
        "  response = request.get(premier_league_api, params= params, headers= header)\n",
        "  if response.ok:\n",
        "    data = json.loads(response.text)['tables'][0]['entries']\n",
        "    for team in data:\n",
        "      id = team['position']\n",
        "      name = str.upper(team['team']['name'])\n",
        "      team = team['overall']\n",
        "      point = team['points']\n",
        "      played = team['played']\n",
        "      won = team['won']\n",
        "      drawn = team['drawn']\n",
        "      lost = team['lost']\n",
        "      goal_scored = team['goalsFor']\n",
        "      goal_conceded = team['goalsAgainst']\n",
        "      goal_diff = team['goalsDifference']\n",
        "\n",
        "      append_team_data(team_list, id, name, point, played, won, drawn, lost, goal_scored, goal_conceded, goal_diff)\n",
        "\n",
        "  df = pd.DataFrame(team_list, columns=COLUMNS)\n",
        "  df.to_csv(path.join(dataset_brut_url+'/premierleague', season+'.csv'), header=True, index= False)\n"
      ]
    }
  ],
  "metadata": {
    "colab": {
      "collapsed_sections": [
        "PEI5XNoRjn0X",
        "x8G40xTFMx4j",
        "6Y1MaFBkjjGQ",
        "ceYh28Wx6L_U",
        "EJPGFExaWJCa",
        "mUYwaGeOiiz_",
        "keHP9qpglIFR"
      ],
      "provenance": []
    },
    "kernelspec": {
      "display_name": "Python 3",
      "name": "python3"
    },
    "language_info": {
      "name": "python"
    }
  },
  "nbformat": 4,
  "nbformat_minor": 0
}
