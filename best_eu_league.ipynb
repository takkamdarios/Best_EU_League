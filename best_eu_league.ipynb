{
  "nbformat": 4,
  "nbformat_minor": 0,
  "metadata": {
    "colab": {
      "provenance": [],
      "collapsed_sections": [
        "PEI5XNoRjn0X",
        "x8G40xTFMx4j",
        "6Y1MaFBkjjGQ",
        "ceYh28Wx6L_U",
        "EJPGFExaWJCa",
        "mUYwaGeOiiz_",
        "keHP9qpglIFR"
      ]
    },
    "kernelspec": {
      "name": "python3",
      "display_name": "Python 3"
    },
    "language_info": {
      "name": "python"
    }
  },
  "cells": [
    {
      "cell_type": "markdown",
      "source": [
        "#Path"
      ],
      "metadata": {
        "id": "-fzFFzvmFNmb"
      }
    },
    {
      "cell_type": "code",
      "source": [
        "ligue_1_url = 'https://www.ligue1.com/ranking'\n",
        "la_liga_url = 'https://www.laliga.com/en-GB/laliga-easports/standing'\n",
        "bundesliga_url = 'https://www.bundesliga.com/en/bundesliga/table'\n",
        "serie_a_url = 'https://www.legaseriea.it/en/serie-a/classifica'\n",
        "serie_a_api = 'https://www.legaseriea.it/api/stats/Classificacompleta'\n",
        "premier_league_url = 'https://www.premierleague.com/tables'\n",
        "premier_league_api = 'https://footballapi.pulselive.com/football/standings'\n",
        "dataset_brut_url = '/content/drive/MyDrive/4MAC/datasets/brut'\n",
        "dataset_processed_url = '/content/drive/MyDrive/4MAC/datasets/processed'"
      ],
      "metadata": {
        "id": "QqwGPBLyFO6O"
      },
      "execution_count": null,
      "outputs": []
    },
    {
      "cell_type": "markdown",
      "source": [
        "#Import"
      ],
      "metadata": {
        "id": "KZuNqv7_LsEf"
      }
    },
    {
      "cell_type": "code",
      "source": [
        "from bs4 import BeautifulSoup as BS\n",
        "import os, os.path as path\n",
        "import requests as request\n",
        "from matplotlib import pyplot as plt\n",
        "import numpy as np\n",
        "from sklearn.linear_model import LinearRegression\n",
        "from sklearn.preprocessing import LabelEncoder, OneHotEncoder, StandardScaler\n",
        "from sklearn.metrics import r2_score, mean_squared_error\n",
        "import seaborn as sns\n",
        "from sklearn.preprocessing import PolynomialFeatures\n",
        "%matplotlib inline\n",
        "import json\n",
        "import pandas as pd\n",
        "from sklearn.model_selection import train_test_split, GridSearchCV\n",
        "from sklearn.ensemble import RandomForestRegressor\n",
        "from sklearn.pipeline import Pipeline"
      ],
      "metadata": {
        "id": "d78f3yTaLtfp"
      },
      "execution_count": null,
      "outputs": []
    },
    {
      "cell_type": "markdown",
      "source": [
        "#Constant"
      ],
      "metadata": {
        "id": "Zi_8hCGmL1WN"
      }
    },
    {
      "cell_type": "code",
      "source": [
        "COLUMNS = ['id', 'team', 'point', 'played', 'won', 'drawn', 'lost', 'goal_scored', 'goal_conceded', 'goal_diff']\n",
        "SEASONS = {\n",
        "    '2022-2023':'2022-23',\n",
        "    '2021-2022':'2021-22',\n",
        "    '2020-2021':'2020-21',\n",
        "    '2019-2020':'2019-20',\n",
        "    '2018-2019':'2018-19'\n",
        "}\n",
        "HEADERS = {\n",
        "    'User-Agent': 'Mozilla/5.0 (Macintosh; Intel Mac OS X 10_11_5) \\\n",
        "                    AppleWebKit/537.36 (KHTML, like Gecko) Chrome/50.0.2661.102 Safari/537.36'\n",
        "}"
      ],
      "metadata": {
        "id": "UPwBQJaZL2hK"
      },
      "execution_count": null,
      "outputs": []
    },
    {
      "cell_type": "markdown",
      "source": [
        "#Function"
      ],
      "metadata": {
        "id": "ceYh28Wx6L_U"
      }
    },
    {
      "cell_type": "code",
      "source": [
        "def append_team_data(team_list, id, name, point, played, won, drawn, lost, goal_scored, goal_conceded, goal_diff):\n",
        "    team = []\n",
        "    team.append(id)\n",
        "    team.append(name)\n",
        "    team.append(point)\n",
        "    team.append(played)\n",
        "    team.append(won)\n",
        "    team.append(drawn)\n",
        "    team.append(lost)\n",
        "    team.append(goal_scored)\n",
        "    team.append(goal_conceded)\n",
        "    team.append(goal_diff)\n",
        "\n",
        "    team_list.append(team)"
      ],
      "metadata": {
        "id": "96AjQrv46NmE"
      },
      "execution_count": null,
      "outputs": []
    },
    {
      "cell_type": "markdown",
      "source": [
        "#Scraping"
      ],
      "metadata": {
        "id": "YzCvx2iNi1sP"
      }
    },
    {
      "cell_type": "markdown",
      "source": [
        "##Ligue 1"
      ],
      "metadata": {
        "id": "EJPGFExaWJCa"
      }
    },
    {
      "cell_type": "code",
      "source": [
        "params = {\n",
        "    'StatsActiveTab': 0\n",
        "}\n",
        "\n",
        "for season in SEASONS.keys():\n",
        "  team_list = []\n",
        "  params['seasonId'] = season\n",
        "  response = request.get(ligue_1_url, params= params, headers= HEADERS)\n",
        "  if response.ok:\n",
        "    soup= BS(response.content, 'lxml')\n",
        "    li_list = soup.find('div', class_='classement-table-body').find_all('li')\n",
        "\n",
        "    for li in li_list:\n",
        "      div_list = li.find_all('div')\n",
        "      id = int(div_list[0].string)\n",
        "      name = str.upper(div_list[1].span.string)\n",
        "      if season == '2019-2020':\n",
        "        point = int(div_list[3].string)\n",
        "        played = int(div_list[4].string)\n",
        "        won = int(div_list[5].string)\n",
        "        drawn = int(div_list[6].string)\n",
        "        lost = int(div_list[7].string)\n",
        "        goal_scored = int(div_list[8].string)\n",
        "        goal_conceded = int(div_list[9].string)\n",
        "        goal_diff = int(div_list[10].string)\n",
        "      else:\n",
        "        point = int(div_list[2].string)\n",
        "        played = int(div_list[3].string)\n",
        "        won = int(div_list[4].string)\n",
        "        drawn = int(div_list[5].string)\n",
        "        lost = int(div_list[6].string)\n",
        "        goal_scored = int(div_list[7].string)\n",
        "        goal_conceded = int(div_list[8].string)\n",
        "        goal_diff = int(div_list[9].string)\n",
        "\n",
        "      append_team_data(team_list, id, name, point, played, won, drawn, lost, goal_scored, goal_conceded, goal_diff)\n",
        "\n",
        "  df = pd.DataFrame(team_list, columns=COLUMNS)\n",
        "  df.to_csv(path.join(dataset_brut_url+'/ligue1', season+'.csv'), header=True, index= False)\n"
      ],
      "metadata": {
        "id": "w7oYi_P0WK5e"
      },
      "execution_count": null,
      "outputs": []
    },
    {
      "cell_type": "markdown",
      "source": [
        "##Bundesliga"
      ],
      "metadata": {
        "id": "mUYwaGeOiiz_"
      }
    },
    {
      "cell_type": "code",
      "source": [
        "for season in SEASONS.keys():\n",
        "  team_list = []\n",
        "  response = request.get(bundesliga_url+f\"/{season}\", headers= HEADERS)\n",
        "  if response.ok:\n",
        "    soup= BS(response.content, 'lxml')\n",
        "    tr_list = soup.tbody.find_all('tr')\n",
        "    for tr in tr_list:\n",
        "      td_list = tr.find_all('td')\n",
        "      id = int(td_list[1].span.string)\n",
        "      name = str.upper(td_list[3].div['title'])\n",
        "      point = int(td_list[11].span.string)\n",
        "      played = int(td_list[5].span.string)\n",
        "      won = int(td_list[6].span.string)\n",
        "      drawn = int(td_list[7].span.string)\n",
        "      lost = int(td_list[8].span.string)\n",
        "      gs, gc = td_list[9].string.split(':')\n",
        "      goal_scored = int(gs)\n",
        "      goal_conceded = int(gc)\n",
        "      goal_diff = int(td_list[10].span.string)\n",
        "\n",
        "      append_team_data(team_list, id, name, point, played, won, drawn, lost, goal_scored, goal_conceded, goal_diff)\n",
        "\n",
        "  df = pd.DataFrame(team_list, columns=COLUMNS)\n",
        "  df.to_csv(path.join(dataset_brut_url+'/bundesliga', season+'.csv'), header=True, index= False)\n",
        "\n"
      ],
      "metadata": {
        "id": "YjBrvCH4imIa"
      },
      "execution_count": null,
      "outputs": []
    },
    {
      "cell_type": "markdown",
      "source": [
        "##Serie A"
      ],
      "metadata": {
        "id": "keHP9qpglIFR"
      }
    },
    {
      "cell_type": "code",
      "source": [
        "params = {\n",
        "    'CAMPIONATO': 'A',\n",
        "    'TURNO': 'UNICO',\n",
        "    'GIRONE': 'UNI'\n",
        "}\n",
        "\n",
        "for season, param in SEASONS.items():\n",
        "  team_list = []\n",
        "  params['STAGIONE'] = param\n",
        "  response = request.get(serie_a_api, params= params, headers= HEADERS)\n",
        "  if response.ok:\n",
        "    data = json.loads(response.text)['data']\n",
        "    for team in data:\n",
        "      id = team['PosCls']\n",
        "      name = team['Nome']\n",
        "      point = team['PuntiCls']\n",
        "      played = team['Giocate']\n",
        "      won = team['Vinte']\n",
        "      drawn = team['Pareggiate']\n",
        "      lost = team['Perse']\n",
        "      goal_scored = team['RETIFATTE']\n",
        "      goal_conceded = team['RETISUBITE']\n",
        "      goal_diff = team['RETIFATTE'] - team['RETISUBITE']\n",
        "\n",
        "      append_team_data(team_list, id, name, point, played, won, drawn, lost, goal_scored, goal_conceded, goal_diff)\n",
        "\n",
        "  df = pd.DataFrame(team_list, columns=COLUMNS)\n",
        "  df.to_csv(path.join(dataset_brut_url+'/seriea', season+'.csv'), header=True, index= False)\n"
      ],
      "metadata": {
        "id": "UgMR6W8qv2jt"
      },
      "execution_count": null,
      "outputs": []
    },
    {
      "cell_type": "markdown",
      "source": [
        "##Premier League"
      ],
      "metadata": {
        "id": "2eiFYGRyjNIz"
      }
    },
    {
      "cell_type": "code",
      "source": [
        "params = {\n",
        "    'altIds': True,\n",
        "    'detail': 2,\n",
        "    'FOOTBALL_COMPETITION': 1\n",
        "}\n",
        "seasons = {\n",
        "    '2022-2023':489,\n",
        "    '2021-2022':418,\n",
        "    '2020-2021':363,\n",
        "    '2019-2020':274,\n",
        "    '2018-2019':210\n",
        "}\n",
        "header = {\n",
        "    'origin': 'https://www.premierleague.com'\n",
        "}\n",
        "\n",
        "for season, param in seasons.items():\n",
        "  team_list = []\n",
        "  params['compSeasons'] = param\n",
        "  response = request.get(premier_league_api, params= params, headers= header)\n",
        "  if response.ok:\n",
        "    data = json.loads(response.text)['tables'][0]['entries']\n",
        "    for team in data:\n",
        "      id = team['position']\n",
        "      name = str.upper(team['team']['name'])\n",
        "      team = team['overall']\n",
        "      point = team['points']\n",
        "      played = team['played']\n",
        "      won = team['won']\n",
        "      drawn = team['drawn']\n",
        "      lost = team['lost']\n",
        "      goal_scored = team['goalsFor']\n",
        "      goal_conceded = team['goalsAgainst']\n",
        "      goal_diff = team['goalsDifference']\n",
        "\n",
        "      append_team_data(team_list, id, name, point, played, won, drawn, lost, goal_scored, goal_conceded, goal_diff)\n",
        "\n",
        "  df = pd.DataFrame(team_list, columns=COLUMNS)\n",
        "  df.to_csv(path.join(dataset_brut_url+'/premierleague', season+'.csv'), header=True, index= False)\n"
      ],
      "metadata": {
        "id": "EBbh_wbajO_V"
      },
      "execution_count": null,
      "outputs": []
    },
    {
      "cell_type": "markdown",
      "source": [
        "#Preprocessing"
      ],
      "metadata": {
        "id": "o_jSfC70-FMB"
      }
    },
    {
      "cell_type": "code",
      "source": [
        "\n",
        "def load_preprocess_league(league_folder):\n",
        "    league_dfs = []\n",
        "    for season_file in os.listdir(league_folder):\n",
        "        if season_file.endswith('.csv'):\n",
        "            season_path = os.path.join(league_folder, season_file)\n",
        "            df = pd.read_csv(season_path)\n",
        "\n",
        "            # Convert numeric columns to float\n",
        "            numeric_cols = ['point', 'played', 'won', 'drawn', 'lost', 'goal_scored', 'goal_conceded', 'goal_diff']\n",
        "            df[numeric_cols] = df[numeric_cols].astype(float)\n",
        "\n",
        "            # Data cleaning\n",
        "            df = df.dropna(subset=['team'])  # Drop rows with missing team names\n",
        "            df = df.drop_duplicates()  # Remove duplicate rows\n",
        "\n",
        "            # Data transformation\n",
        "            df['win_percentage'] = (df['won'] / df['played']).round(6)\n",
        "            df['loss_percentage'] = (df['lost'] / df['played']).round(6)\n",
        "            df['goals_per_game'] = (df['goal_scored'] / df['played']).round(6)\n",
        "            df['goals_against_per_game'] = (df['goal_conceded'] / df['played']).round(6)\n",
        "            df = df.drop(columns=['id'])\n",
        "            df['season'] = season_file.split('.')[0]\n",
        "\n",
        "            league_dfs.append(df)\n",
        "\n",
        "    league_df = pd.concat(league_dfs, ignore_index=True)\n",
        "    return league_df\n",
        "\n",
        "# Load and preprocess data for all leagues\n",
        "all_leagues = []\n",
        "for league_folder in ['bundesliga', 'ligue1', 'premierleague', 'seriea']:\n",
        "    league_path = os.path.join(dataset_brut_url, league_folder)\n",
        "    league_df = load_preprocess_league(league_path)\n",
        "    league_df['league'] = league_folder\n",
        "    all_leagues.append(league_df)\n",
        "\n",
        "# Concatenate data from all leagues\n",
        "combined_df = pd.concat(all_leagues, ignore_index=True)\n"
      ],
      "metadata": {
        "id": "hLOBLbY1yzH9"
      },
      "execution_count": null,
      "outputs": []
    },
    {
      "cell_type": "code",
      "source": [
        "print(combined_df.isnull().sum())"
      ],
      "metadata": {
        "colab": {
          "base_uri": "https://localhost:8080/"
        },
        "id": "-09tg1LM9MhK",
        "outputId": "eff389a2-d281-4dd8-fbdd-d986900a25fa"
      },
      "execution_count": null,
      "outputs": [
        {
          "output_type": "stream",
          "name": "stdout",
          "text": [
            "team                      0\n",
            "point                     0\n",
            "played                    0\n",
            "won                       0\n",
            "drawn                     0\n",
            "lost                      0\n",
            "goal_scored               0\n",
            "goal_conceded             0\n",
            "goal_diff                 0\n",
            "win_percentage            0\n",
            "loss_percentage           0\n",
            "goals_per_game            0\n",
            "goals_against_per_game    0\n",
            "season                    0\n",
            "league                    0\n",
            "dtype: int64\n"
          ]
        }
      ]
    },
    {
      "cell_type": "code",
      "source": [
        "combined_df"
      ],
      "metadata": {
        "colab": {
          "base_uri": "https://localhost:8080/",
          "height": 597
        },
        "id": "C6oyN8wm4sn7",
        "outputId": "509c0dbe-8e84-464c-e9b1-68b4a3cfae7a"
      },
      "execution_count": null,
      "outputs": [
        {
          "output_type": "execute_result",
          "data": {
            "text/plain": [
              "                    team  point  played   won  drawn  lost  goal_scored  \\\n",
              "0      FC BAYERN MÜNCHEN   71.0    34.0  21.0    8.0   5.0         92.0   \n",
              "1      BORUSSIA DORTMUND   71.0    34.0  22.0    5.0   7.0         83.0   \n",
              "2             RB LEIPZIG   66.0    34.0  20.0    6.0   8.0         64.0   \n",
              "3     1. FC UNION BERLIN   62.0    34.0  18.0    8.0   8.0         51.0   \n",
              "4    SPORT-CLUB FREIBURG   59.0    34.0  17.0    8.0   9.0         51.0   \n",
              "..                   ...    ...     ...   ...    ...   ...          ...   \n",
              "385           FIORENTINA   41.0    38.0   8.0   17.0  13.0         47.0   \n",
              "386                GENOA   38.0    38.0   8.0   14.0  16.0         39.0   \n",
              "387               EMPOLI   38.0    38.0  10.0    8.0  20.0         51.0   \n",
              "388            FROSINONE   25.0    38.0   5.0   10.0  23.0         29.0   \n",
              "389         CHIEVOVERONA   17.0    38.0   2.0   14.0  22.0         25.0   \n",
              "\n",
              "     goal_conceded  goal_diff  win_percentage  loss_percentage  \\\n",
              "0             38.0       54.0        0.617647         0.147059   \n",
              "1             44.0       39.0        0.647059         0.205882   \n",
              "2             41.0       23.0        0.588235         0.235294   \n",
              "3             38.0       13.0        0.529412         0.235294   \n",
              "4             44.0        7.0        0.500000         0.264706   \n",
              "..             ...        ...             ...              ...   \n",
              "385           45.0        2.0        0.210526         0.342105   \n",
              "386           57.0      -18.0        0.210526         0.421053   \n",
              "387           70.0      -19.0        0.263158         0.526316   \n",
              "388           69.0      -40.0        0.131579         0.605263   \n",
              "389           75.0      -50.0        0.052632         0.578947   \n",
              "\n",
              "     goals_per_game  goals_against_per_game     season      league  \n",
              "0          2.705882                1.117647  2022-2023  bundesliga  \n",
              "1          2.441176                1.294118  2022-2023  bundesliga  \n",
              "2          1.882353                1.205882  2022-2023  bundesliga  \n",
              "3          1.500000                1.117647  2022-2023  bundesliga  \n",
              "4          1.500000                1.294118  2022-2023  bundesliga  \n",
              "..              ...                     ...        ...         ...  \n",
              "385        1.236842                1.184211  2018-2019      seriea  \n",
              "386        1.026316                1.500000  2018-2019      seriea  \n",
              "387        1.342105                1.842105  2018-2019      seriea  \n",
              "388        0.763158                1.815789  2018-2019      seriea  \n",
              "389        0.657895                1.973684  2018-2019      seriea  \n",
              "\n",
              "[390 rows x 15 columns]"
            ],
            "text/html": [
              "\n",
              "  <div id=\"df-c48333cb-d6ea-4244-a48b-befda7b7a74b\" class=\"colab-df-container\">\n",
              "    <div>\n",
              "<style scoped>\n",
              "    .dataframe tbody tr th:only-of-type {\n",
              "        vertical-align: middle;\n",
              "    }\n",
              "\n",
              "    .dataframe tbody tr th {\n",
              "        vertical-align: top;\n",
              "    }\n",
              "\n",
              "    .dataframe thead th {\n",
              "        text-align: right;\n",
              "    }\n",
              "</style>\n",
              "<table border=\"1\" class=\"dataframe\">\n",
              "  <thead>\n",
              "    <tr style=\"text-align: right;\">\n",
              "      <th></th>\n",
              "      <th>team</th>\n",
              "      <th>point</th>\n",
              "      <th>played</th>\n",
              "      <th>won</th>\n",
              "      <th>drawn</th>\n",
              "      <th>lost</th>\n",
              "      <th>goal_scored</th>\n",
              "      <th>goal_conceded</th>\n",
              "      <th>goal_diff</th>\n",
              "      <th>win_percentage</th>\n",
              "      <th>loss_percentage</th>\n",
              "      <th>goals_per_game</th>\n",
              "      <th>goals_against_per_game</th>\n",
              "      <th>season</th>\n",
              "      <th>league</th>\n",
              "    </tr>\n",
              "  </thead>\n",
              "  <tbody>\n",
              "    <tr>\n",
              "      <th>0</th>\n",
              "      <td>FC BAYERN MÜNCHEN</td>\n",
              "      <td>71.0</td>\n",
              "      <td>34.0</td>\n",
              "      <td>21.0</td>\n",
              "      <td>8.0</td>\n",
              "      <td>5.0</td>\n",
              "      <td>92.0</td>\n",
              "      <td>38.0</td>\n",
              "      <td>54.0</td>\n",
              "      <td>0.617647</td>\n",
              "      <td>0.147059</td>\n",
              "      <td>2.705882</td>\n",
              "      <td>1.117647</td>\n",
              "      <td>2022-2023</td>\n",
              "      <td>bundesliga</td>\n",
              "    </tr>\n",
              "    <tr>\n",
              "      <th>1</th>\n",
              "      <td>BORUSSIA DORTMUND</td>\n",
              "      <td>71.0</td>\n",
              "      <td>34.0</td>\n",
              "      <td>22.0</td>\n",
              "      <td>5.0</td>\n",
              "      <td>7.0</td>\n",
              "      <td>83.0</td>\n",
              "      <td>44.0</td>\n",
              "      <td>39.0</td>\n",
              "      <td>0.647059</td>\n",
              "      <td>0.205882</td>\n",
              "      <td>2.441176</td>\n",
              "      <td>1.294118</td>\n",
              "      <td>2022-2023</td>\n",
              "      <td>bundesliga</td>\n",
              "    </tr>\n",
              "    <tr>\n",
              "      <th>2</th>\n",
              "      <td>RB LEIPZIG</td>\n",
              "      <td>66.0</td>\n",
              "      <td>34.0</td>\n",
              "      <td>20.0</td>\n",
              "      <td>6.0</td>\n",
              "      <td>8.0</td>\n",
              "      <td>64.0</td>\n",
              "      <td>41.0</td>\n",
              "      <td>23.0</td>\n",
              "      <td>0.588235</td>\n",
              "      <td>0.235294</td>\n",
              "      <td>1.882353</td>\n",
              "      <td>1.205882</td>\n",
              "      <td>2022-2023</td>\n",
              "      <td>bundesliga</td>\n",
              "    </tr>\n",
              "    <tr>\n",
              "      <th>3</th>\n",
              "      <td>1. FC UNION BERLIN</td>\n",
              "      <td>62.0</td>\n",
              "      <td>34.0</td>\n",
              "      <td>18.0</td>\n",
              "      <td>8.0</td>\n",
              "      <td>8.0</td>\n",
              "      <td>51.0</td>\n",
              "      <td>38.0</td>\n",
              "      <td>13.0</td>\n",
              "      <td>0.529412</td>\n",
              "      <td>0.235294</td>\n",
              "      <td>1.500000</td>\n",
              "      <td>1.117647</td>\n",
              "      <td>2022-2023</td>\n",
              "      <td>bundesliga</td>\n",
              "    </tr>\n",
              "    <tr>\n",
              "      <th>4</th>\n",
              "      <td>SPORT-CLUB FREIBURG</td>\n",
              "      <td>59.0</td>\n",
              "      <td>34.0</td>\n",
              "      <td>17.0</td>\n",
              "      <td>8.0</td>\n",
              "      <td>9.0</td>\n",
              "      <td>51.0</td>\n",
              "      <td>44.0</td>\n",
              "      <td>7.0</td>\n",
              "      <td>0.500000</td>\n",
              "      <td>0.264706</td>\n",
              "      <td>1.500000</td>\n",
              "      <td>1.294118</td>\n",
              "      <td>2022-2023</td>\n",
              "      <td>bundesliga</td>\n",
              "    </tr>\n",
              "    <tr>\n",
              "      <th>...</th>\n",
              "      <td>...</td>\n",
              "      <td>...</td>\n",
              "      <td>...</td>\n",
              "      <td>...</td>\n",
              "      <td>...</td>\n",
              "      <td>...</td>\n",
              "      <td>...</td>\n",
              "      <td>...</td>\n",
              "      <td>...</td>\n",
              "      <td>...</td>\n",
              "      <td>...</td>\n",
              "      <td>...</td>\n",
              "      <td>...</td>\n",
              "      <td>...</td>\n",
              "      <td>...</td>\n",
              "    </tr>\n",
              "    <tr>\n",
              "      <th>385</th>\n",
              "      <td>FIORENTINA</td>\n",
              "      <td>41.0</td>\n",
              "      <td>38.0</td>\n",
              "      <td>8.0</td>\n",
              "      <td>17.0</td>\n",
              "      <td>13.0</td>\n",
              "      <td>47.0</td>\n",
              "      <td>45.0</td>\n",
              "      <td>2.0</td>\n",
              "      <td>0.210526</td>\n",
              "      <td>0.342105</td>\n",
              "      <td>1.236842</td>\n",
              "      <td>1.184211</td>\n",
              "      <td>2018-2019</td>\n",
              "      <td>seriea</td>\n",
              "    </tr>\n",
              "    <tr>\n",
              "      <th>386</th>\n",
              "      <td>GENOA</td>\n",
              "      <td>38.0</td>\n",
              "      <td>38.0</td>\n",
              "      <td>8.0</td>\n",
              "      <td>14.0</td>\n",
              "      <td>16.0</td>\n",
              "      <td>39.0</td>\n",
              "      <td>57.0</td>\n",
              "      <td>-18.0</td>\n",
              "      <td>0.210526</td>\n",
              "      <td>0.421053</td>\n",
              "      <td>1.026316</td>\n",
              "      <td>1.500000</td>\n",
              "      <td>2018-2019</td>\n",
              "      <td>seriea</td>\n",
              "    </tr>\n",
              "    <tr>\n",
              "      <th>387</th>\n",
              "      <td>EMPOLI</td>\n",
              "      <td>38.0</td>\n",
              "      <td>38.0</td>\n",
              "      <td>10.0</td>\n",
              "      <td>8.0</td>\n",
              "      <td>20.0</td>\n",
              "      <td>51.0</td>\n",
              "      <td>70.0</td>\n",
              "      <td>-19.0</td>\n",
              "      <td>0.263158</td>\n",
              "      <td>0.526316</td>\n",
              "      <td>1.342105</td>\n",
              "      <td>1.842105</td>\n",
              "      <td>2018-2019</td>\n",
              "      <td>seriea</td>\n",
              "    </tr>\n",
              "    <tr>\n",
              "      <th>388</th>\n",
              "      <td>FROSINONE</td>\n",
              "      <td>25.0</td>\n",
              "      <td>38.0</td>\n",
              "      <td>5.0</td>\n",
              "      <td>10.0</td>\n",
              "      <td>23.0</td>\n",
              "      <td>29.0</td>\n",
              "      <td>69.0</td>\n",
              "      <td>-40.0</td>\n",
              "      <td>0.131579</td>\n",
              "      <td>0.605263</td>\n",
              "      <td>0.763158</td>\n",
              "      <td>1.815789</td>\n",
              "      <td>2018-2019</td>\n",
              "      <td>seriea</td>\n",
              "    </tr>\n",
              "    <tr>\n",
              "      <th>389</th>\n",
              "      <td>CHIEVOVERONA</td>\n",
              "      <td>17.0</td>\n",
              "      <td>38.0</td>\n",
              "      <td>2.0</td>\n",
              "      <td>14.0</td>\n",
              "      <td>22.0</td>\n",
              "      <td>25.0</td>\n",
              "      <td>75.0</td>\n",
              "      <td>-50.0</td>\n",
              "      <td>0.052632</td>\n",
              "      <td>0.578947</td>\n",
              "      <td>0.657895</td>\n",
              "      <td>1.973684</td>\n",
              "      <td>2018-2019</td>\n",
              "      <td>seriea</td>\n",
              "    </tr>\n",
              "  </tbody>\n",
              "</table>\n",
              "<p>390 rows × 15 columns</p>\n",
              "</div>\n",
              "    <div class=\"colab-df-buttons\">\n",
              "\n",
              "  <div class=\"colab-df-container\">\n",
              "    <button class=\"colab-df-convert\" onclick=\"convertToInteractive('df-c48333cb-d6ea-4244-a48b-befda7b7a74b')\"\n",
              "            title=\"Convert this dataframe to an interactive table.\"\n",
              "            style=\"display:none;\">\n",
              "\n",
              "  <svg xmlns=\"http://www.w3.org/2000/svg\" height=\"24px\" viewBox=\"0 -960 960 960\">\n",
              "    <path d=\"M120-120v-720h720v720H120Zm60-500h600v-160H180v160Zm220 220h160v-160H400v160Zm0 220h160v-160H400v160ZM180-400h160v-160H180v160Zm440 0h160v-160H620v160ZM180-180h160v-160H180v160Zm440 0h160v-160H620v160Z\"/>\n",
              "  </svg>\n",
              "    </button>\n",
              "\n",
              "  <style>\n",
              "    .colab-df-container {\n",
              "      display:flex;\n",
              "      gap: 12px;\n",
              "    }\n",
              "\n",
              "    .colab-df-convert {\n",
              "      background-color: #E8F0FE;\n",
              "      border: none;\n",
              "      border-radius: 50%;\n",
              "      cursor: pointer;\n",
              "      display: none;\n",
              "      fill: #1967D2;\n",
              "      height: 32px;\n",
              "      padding: 0 0 0 0;\n",
              "      width: 32px;\n",
              "    }\n",
              "\n",
              "    .colab-df-convert:hover {\n",
              "      background-color: #E2EBFA;\n",
              "      box-shadow: 0px 1px 2px rgba(60, 64, 67, 0.3), 0px 1px 3px 1px rgba(60, 64, 67, 0.15);\n",
              "      fill: #174EA6;\n",
              "    }\n",
              "\n",
              "    .colab-df-buttons div {\n",
              "      margin-bottom: 4px;\n",
              "    }\n",
              "\n",
              "    [theme=dark] .colab-df-convert {\n",
              "      background-color: #3B4455;\n",
              "      fill: #D2E3FC;\n",
              "    }\n",
              "\n",
              "    [theme=dark] .colab-df-convert:hover {\n",
              "      background-color: #434B5C;\n",
              "      box-shadow: 0px 1px 3px 1px rgba(0, 0, 0, 0.15);\n",
              "      filter: drop-shadow(0px 1px 2px rgba(0, 0, 0, 0.3));\n",
              "      fill: #FFFFFF;\n",
              "    }\n",
              "  </style>\n",
              "\n",
              "    <script>\n",
              "      const buttonEl =\n",
              "        document.querySelector('#df-c48333cb-d6ea-4244-a48b-befda7b7a74b button.colab-df-convert');\n",
              "      buttonEl.style.display =\n",
              "        google.colab.kernel.accessAllowed ? 'block' : 'none';\n",
              "\n",
              "      async function convertToInteractive(key) {\n",
              "        const element = document.querySelector('#df-c48333cb-d6ea-4244-a48b-befda7b7a74b');\n",
              "        const dataTable =\n",
              "          await google.colab.kernel.invokeFunction('convertToInteractive',\n",
              "                                                    [key], {});\n",
              "        if (!dataTable) return;\n",
              "\n",
              "        const docLinkHtml = 'Like what you see? Visit the ' +\n",
              "          '<a target=\"_blank\" href=https://colab.research.google.com/notebooks/data_table.ipynb>data table notebook</a>'\n",
              "          + ' to learn more about interactive tables.';\n",
              "        element.innerHTML = '';\n",
              "        dataTable['output_type'] = 'display_data';\n",
              "        await google.colab.output.renderOutput(dataTable, element);\n",
              "        const docLink = document.createElement('div');\n",
              "        docLink.innerHTML = docLinkHtml;\n",
              "        element.appendChild(docLink);\n",
              "      }\n",
              "    </script>\n",
              "  </div>\n",
              "\n",
              "\n",
              "<div id=\"df-13fb2cae-3454-4b1e-abe0-13e13b51b921\">\n",
              "  <button class=\"colab-df-quickchart\" onclick=\"quickchart('df-13fb2cae-3454-4b1e-abe0-13e13b51b921')\"\n",
              "            title=\"Suggest charts\"\n",
              "            style=\"display:none;\">\n",
              "\n",
              "<svg xmlns=\"http://www.w3.org/2000/svg\" height=\"24px\"viewBox=\"0 0 24 24\"\n",
              "     width=\"24px\">\n",
              "    <g>\n",
              "        <path d=\"M19 3H5c-1.1 0-2 .9-2 2v14c0 1.1.9 2 2 2h14c1.1 0 2-.9 2-2V5c0-1.1-.9-2-2-2zM9 17H7v-7h2v7zm4 0h-2V7h2v10zm4 0h-2v-4h2v4z\"/>\n",
              "    </g>\n",
              "</svg>\n",
              "  </button>\n",
              "\n",
              "<style>\n",
              "  .colab-df-quickchart {\n",
              "      --bg-color: #E8F0FE;\n",
              "      --fill-color: #1967D2;\n",
              "      --hover-bg-color: #E2EBFA;\n",
              "      --hover-fill-color: #174EA6;\n",
              "      --disabled-fill-color: #AAA;\n",
              "      --disabled-bg-color: #DDD;\n",
              "  }\n",
              "\n",
              "  [theme=dark] .colab-df-quickchart {\n",
              "      --bg-color: #3B4455;\n",
              "      --fill-color: #D2E3FC;\n",
              "      --hover-bg-color: #434B5C;\n",
              "      --hover-fill-color: #FFFFFF;\n",
              "      --disabled-bg-color: #3B4455;\n",
              "      --disabled-fill-color: #666;\n",
              "  }\n",
              "\n",
              "  .colab-df-quickchart {\n",
              "    background-color: var(--bg-color);\n",
              "    border: none;\n",
              "    border-radius: 50%;\n",
              "    cursor: pointer;\n",
              "    display: none;\n",
              "    fill: var(--fill-color);\n",
              "    height: 32px;\n",
              "    padding: 0;\n",
              "    width: 32px;\n",
              "  }\n",
              "\n",
              "  .colab-df-quickchart:hover {\n",
              "    background-color: var(--hover-bg-color);\n",
              "    box-shadow: 0 1px 2px rgba(60, 64, 67, 0.3), 0 1px 3px 1px rgba(60, 64, 67, 0.15);\n",
              "    fill: var(--button-hover-fill-color);\n",
              "  }\n",
              "\n",
              "  .colab-df-quickchart-complete:disabled,\n",
              "  .colab-df-quickchart-complete:disabled:hover {\n",
              "    background-color: var(--disabled-bg-color);\n",
              "    fill: var(--disabled-fill-color);\n",
              "    box-shadow: none;\n",
              "  }\n",
              "\n",
              "  .colab-df-spinner {\n",
              "    border: 2px solid var(--fill-color);\n",
              "    border-color: transparent;\n",
              "    border-bottom-color: var(--fill-color);\n",
              "    animation:\n",
              "      spin 1s steps(1) infinite;\n",
              "  }\n",
              "\n",
              "  @keyframes spin {\n",
              "    0% {\n",
              "      border-color: transparent;\n",
              "      border-bottom-color: var(--fill-color);\n",
              "      border-left-color: var(--fill-color);\n",
              "    }\n",
              "    20% {\n",
              "      border-color: transparent;\n",
              "      border-left-color: var(--fill-color);\n",
              "      border-top-color: var(--fill-color);\n",
              "    }\n",
              "    30% {\n",
              "      border-color: transparent;\n",
              "      border-left-color: var(--fill-color);\n",
              "      border-top-color: var(--fill-color);\n",
              "      border-right-color: var(--fill-color);\n",
              "    }\n",
              "    40% {\n",
              "      border-color: transparent;\n",
              "      border-right-color: var(--fill-color);\n",
              "      border-top-color: var(--fill-color);\n",
              "    }\n",
              "    60% {\n",
              "      border-color: transparent;\n",
              "      border-right-color: var(--fill-color);\n",
              "    }\n",
              "    80% {\n",
              "      border-color: transparent;\n",
              "      border-right-color: var(--fill-color);\n",
              "      border-bottom-color: var(--fill-color);\n",
              "    }\n",
              "    90% {\n",
              "      border-color: transparent;\n",
              "      border-bottom-color: var(--fill-color);\n",
              "    }\n",
              "  }\n",
              "</style>\n",
              "\n",
              "  <script>\n",
              "    async function quickchart(key) {\n",
              "      const quickchartButtonEl =\n",
              "        document.querySelector('#' + key + ' button');\n",
              "      quickchartButtonEl.disabled = true;  // To prevent multiple clicks.\n",
              "      quickchartButtonEl.classList.add('colab-df-spinner');\n",
              "      try {\n",
              "        const charts = await google.colab.kernel.invokeFunction(\n",
              "            'suggestCharts', [key], {});\n",
              "      } catch (error) {\n",
              "        console.error('Error during call to suggestCharts:', error);\n",
              "      }\n",
              "      quickchartButtonEl.classList.remove('colab-df-spinner');\n",
              "      quickchartButtonEl.classList.add('colab-df-quickchart-complete');\n",
              "    }\n",
              "    (() => {\n",
              "      let quickchartButtonEl =\n",
              "        document.querySelector('#df-13fb2cae-3454-4b1e-abe0-13e13b51b921 button');\n",
              "      quickchartButtonEl.style.display =\n",
              "        google.colab.kernel.accessAllowed ? 'block' : 'none';\n",
              "    })();\n",
              "  </script>\n",
              "</div>\n",
              "\n",
              "  <div id=\"id_b400149f-fd01-42c7-90dc-7fb2843ca40b\">\n",
              "    <style>\n",
              "      .colab-df-generate {\n",
              "        background-color: #E8F0FE;\n",
              "        border: none;\n",
              "        border-radius: 50%;\n",
              "        cursor: pointer;\n",
              "        display: none;\n",
              "        fill: #1967D2;\n",
              "        height: 32px;\n",
              "        padding: 0 0 0 0;\n",
              "        width: 32px;\n",
              "      }\n",
              "\n",
              "      .colab-df-generate:hover {\n",
              "        background-color: #E2EBFA;\n",
              "        box-shadow: 0px 1px 2px rgba(60, 64, 67, 0.3), 0px 1px 3px 1px rgba(60, 64, 67, 0.15);\n",
              "        fill: #174EA6;\n",
              "      }\n",
              "\n",
              "      [theme=dark] .colab-df-generate {\n",
              "        background-color: #3B4455;\n",
              "        fill: #D2E3FC;\n",
              "      }\n",
              "\n",
              "      [theme=dark] .colab-df-generate:hover {\n",
              "        background-color: #434B5C;\n",
              "        box-shadow: 0px 1px 3px 1px rgba(0, 0, 0, 0.15);\n",
              "        filter: drop-shadow(0px 1px 2px rgba(0, 0, 0, 0.3));\n",
              "        fill: #FFFFFF;\n",
              "      }\n",
              "    </style>\n",
              "    <button class=\"colab-df-generate\" onclick=\"generateWithVariable('combined_df')\"\n",
              "            title=\"Generate code using this dataframe.\"\n",
              "            style=\"display:none;\">\n",
              "\n",
              "  <svg xmlns=\"http://www.w3.org/2000/svg\" height=\"24px\"viewBox=\"0 0 24 24\"\n",
              "       width=\"24px\">\n",
              "    <path d=\"M7,19H8.4L18.45,9,17,7.55,7,17.6ZM5,21V16.75L18.45,3.32a2,2,0,0,1,2.83,0l1.4,1.43a1.91,1.91,0,0,1,.58,1.4,1.91,1.91,0,0,1-.58,1.4L9.25,21ZM18.45,9,17,7.55Zm-12,3A5.31,5.31,0,0,0,4.9,8.1,5.31,5.31,0,0,0,1,6.5,5.31,5.31,0,0,0,4.9,4.9,5.31,5.31,0,0,0,6.5,1,5.31,5.31,0,0,0,8.1,4.9,5.31,5.31,0,0,0,12,6.5,5.46,5.46,0,0,0,6.5,12Z\"/>\n",
              "  </svg>\n",
              "    </button>\n",
              "    <script>\n",
              "      (() => {\n",
              "      const buttonEl =\n",
              "        document.querySelector('#id_b400149f-fd01-42c7-90dc-7fb2843ca40b button.colab-df-generate');\n",
              "      buttonEl.style.display =\n",
              "        google.colab.kernel.accessAllowed ? 'block' : 'none';\n",
              "\n",
              "      buttonEl.onclick = () => {\n",
              "        google.colab.notebook.generateWithVariable('combined_df');\n",
              "      }\n",
              "      })();\n",
              "    </script>\n",
              "  </div>\n",
              "\n",
              "    </div>\n",
              "  </div>\n"
            ],
            "application/vnd.google.colaboratory.intrinsic+json": {
              "type": "dataframe",
              "variable_name": "combined_df",
              "summary": "{\n  \"name\": \"combined_df\",\n  \"rows\": 390,\n  \"fields\": [\n    {\n      \"column\": \"team\",\n      \"properties\": {\n        \"dtype\": \"category\",\n        \"num_unique_values\": 111,\n        \"samples\": [\n          \"NORWICH CITY\",\n          \"1. FC K\\u00d6LN\",\n          \"SPORT-CLUB FREIBURG\"\n        ],\n        \"semantic_type\": \"\",\n        \"description\": \"\"\n      }\n    },\n    {\n      \"column\": \"point\",\n      \"properties\": {\n        \"dtype\": \"number\",\n        \"std\": 17.30201526944633,\n        \"min\": 13.0,\n        \"max\": 99.0,\n        \"num_unique_values\": 79,\n        \"samples\": [\n          41.0,\n          71.0,\n          45.0\n        ],\n        \"semantic_type\": \"\",\n        \"description\": \"\"\n      }\n    },\n    {\n      \"column\": \"played\",\n      \"properties\": {\n        \"dtype\": \"number\",\n        \"std\": 2.620928027788492,\n        \"min\": 27.0,\n        \"max\": 38.0,\n        \"num_unique_values\": 4,\n        \"samples\": [\n          38.0,\n          28.0,\n          34.0\n        ],\n        \"semantic_type\": \"\",\n        \"description\": \"\"\n      }\n    },\n    {\n      \"column\": \"won\",\n      \"properties\": {\n        \"dtype\": \"number\",\n        \"std\": 6.084748517763211,\n        \"min\": 2.0,\n        \"max\": 32.0,\n        \"num_unique_values\": 30,\n        \"samples\": [\n          32.0,\n          15.0,\n          27.0\n        ],\n        \"semantic_type\": \"\",\n        \"description\": \"\"\n      }\n    },\n    {\n      \"column\": \"drawn\",\n      \"properties\": {\n        \"dtype\": \"number\",\n        \"std\": 2.9307971970332174,\n        \"min\": 2.0,\n        \"max\": 17.0,\n        \"num_unique_values\": 16,\n        \"samples\": [\n          8.0,\n          5.0,\n          12.0\n        ],\n        \"semantic_type\": \"\",\n        \"description\": \"\"\n      }\n    },\n    {\n      \"column\": \"lost\",\n      \"properties\": {\n        \"dtype\": \"number\",\n        \"std\": 5.474033116488364,\n        \"min\": 1.0,\n        \"max\": 29.0,\n        \"num_unique_values\": 29,\n        \"samples\": [\n          27.0,\n          6.0,\n          14.0\n        ],\n        \"semantic_type\": \"\",\n        \"description\": \"\"\n      }\n    },\n    {\n      \"column\": \"goal_scored\",\n      \"properties\": {\n        \"dtype\": \"number\",\n        \"std\": 17.019728032814978,\n        \"min\": 20.0,\n        \"max\": 105.0,\n        \"num_unique_values\": 77,\n        \"samples\": [\n          57.0,\n          99.0,\n          40.0\n        ],\n        \"semantic_type\": \"\",\n        \"description\": \"\"\n      }\n    },\n    {\n      \"column\": \"goal_conceded\",\n      \"properties\": {\n        \"dtype\": \"number\",\n        \"std\": 13.399542865142552,\n        \"min\": 21.0,\n        \"max\": 92.0,\n        \"num_unique_values\": 66,\n        \"samples\": [\n          35.0,\n          30.0,\n          38.0\n        ],\n        \"semantic_type\": \"\",\n        \"description\": \"\"\n      }\n    },\n    {\n      \"column\": \"goal_diff\",\n      \"properties\": {\n        \"dtype\": \"number\",\n        \"std\": 26.48926639099622,\n        \"min\": -61.0,\n        \"max\": 73.0,\n        \"num_unique_values\": 111,\n        \"samples\": [\n          58.0,\n          -5.0,\n          7.0\n        ],\n        \"semantic_type\": \"\",\n        \"description\": \"\"\n      }\n    },\n    {\n      \"column\": \"win_percentage\",\n      \"properties\": {\n        \"dtype\": \"number\",\n        \"std\": 0.16329418844043092,\n        \"min\": 0.052632,\n        \"max\": 0.842105,\n        \"num_unique_values\": 63,\n        \"samples\": [\n          0.078947,\n          0.736842,\n          0.617647\n        ],\n        \"semantic_type\": \"\",\n        \"description\": \"\"\n      }\n    },\n    {\n      \"column\": \"loss_percentage\",\n      \"properties\": {\n        \"dtype\": \"number\",\n        \"std\": 0.14639147563523347,\n        \"min\": 0.026316,\n        \"max\": 0.763158,\n        \"num_unique_values\": 61,\n        \"samples\": [\n          0.147059,\n          0.294118,\n          0.25\n        ],\n        \"semantic_type\": \"\",\n        \"description\": \"\"\n      }\n    },\n    {\n      \"column\": \"goals_per_game\",\n      \"properties\": {\n        \"dtype\": \"number\",\n        \"std\": 0.461076722746097,\n        \"min\": 0.526316,\n        \"max\": 2.941176,\n        \"num_unique_values\": 133,\n        \"samples\": [\n          2.342105,\n          1.578947,\n          1.558824\n        ],\n        \"semantic_type\": \"\",\n        \"description\": \"\"\n      }\n    },\n    {\n      \"column\": \"goals_against_per_game\",\n      \"properties\": {\n        \"dtype\": \"number\",\n        \"std\": 0.3579271899314799,\n        \"min\": 0.578947,\n        \"max\": 2.529412,\n        \"num_unique_values\": 113,\n        \"samples\": [\n          1.214286,\n          1.529412,\n          1.026316\n        ],\n        \"semantic_type\": \"\",\n        \"description\": \"\"\n      }\n    },\n    {\n      \"column\": \"season\",\n      \"properties\": {\n        \"dtype\": \"category\",\n        \"num_unique_values\": 5,\n        \"samples\": [\n          \"2021-2022\",\n          \"2018-2019\",\n          \"2019-2020\"\n        ],\n        \"semantic_type\": \"\",\n        \"description\": \"\"\n      }\n    },\n    {\n      \"column\": \"league\",\n      \"properties\": {\n        \"dtype\": \"category\",\n        \"num_unique_values\": 4,\n        \"samples\": [\n          \"ligue1\",\n          \"seriea\",\n          \"bundesliga\"\n        ],\n        \"semantic_type\": \"\",\n        \"description\": \"\"\n      }\n    }\n  ]\n}"
            }
          },
          "metadata": {},
          "execution_count": 11
        }
      ]
    },
    {
      "cell_type": "markdown",
      "source": [
        "## Save preprocessed data"
      ],
      "metadata": {
        "id": "N8DXmw1XzUAr"
      }
    },
    {
      "cell_type": "code",
      "source": [
        "combined_df.to_csv(path.join(dataset_processed_url, 'leagues_standings.csv'), header=True, index= False)"
      ],
      "metadata": {
        "id": "g7kSN1yN9P8s"
      },
      "execution_count": null,
      "outputs": []
    },
    {
      "cell_type": "markdown",
      "source": [
        "#Visualisation"
      ],
      "metadata": {
        "id": "sGaapue09_WQ"
      }
    },
    {
      "cell_type": "code",
      "source": [
        "\n",
        "# Calcul du nombre moyen de buts marqués par match pour chaque ligue\n",
        "avg_goals_per_game = combined_df.groupby('league')['goals_per_game'].mean().reset_index()\n",
        "\n",
        "# Visualisation\n",
        "plt.figure(figsize=(10, 6))\n",
        "sns.barplot(x='league', y='goals_per_game', data=avg_goals_per_game, palette='viridis')\n",
        "plt.xlabel('Ligue')\n",
        "plt.ylabel('Nombre moyen de buts marqués par match')\n",
        "plt.title('Comparaison des performances des ligues (Buts marqués par match)')\n",
        "plt.xticks(rotation=45)\n",
        "plt.show()\n"
      ],
      "metadata": {
        "colab": {
          "base_uri": "https://localhost:8080/",
          "height": 719
        },
        "id": "Wi6xJSFn-qr_",
        "outputId": "23025cc6-3f89-4a5a-f540-508554a8db8f"
      },
      "execution_count": null,
      "outputs": [
        {
          "output_type": "stream",
          "name": "stderr",
          "text": [
            "<ipython-input-13-488d69dd1335>:6: FutureWarning: \n",
            "\n",
            "Passing `palette` without assigning `hue` is deprecated and will be removed in v0.14.0. Assign the `x` variable to `hue` and set `legend=False` for the same effect.\n",
            "\n",
            "  sns.barplot(x='league', y='goals_per_game', data=avg_goals_per_game, palette='viridis')\n"
          ]
        },
        {
          "output_type": "display_data",
          "data": {
            "text/plain": [
              "<Figure size 1000x600 with 1 Axes>"
            ],
            "image/png": "[encoded data removed]"
          },
          "metadata": {}
        }
      ]
    },
    {
      "cell_type": "code",
      "source": [
        "# Calcul du taux de victoire moyen pour chaque ligue\n",
        "avg_win_percentage = combined_df.groupby('league')['win_percentage'].mean().reset_index()\n",
        "\n",
        "# Visualisation\n",
        "plt.figure(figsize=(10, 6))\n",
        "sns.barplot(x='league', y='win_percentage', data=avg_win_percentage, palette='magma')\n",
        "plt.xlabel('Ligue')\n",
        "plt.ylabel('Taux de victoire moyen')\n",
        "plt.title('Comparaison des performances des ligues (Taux de victoire moyen)')\n",
        "plt.xticks(rotation=45)\n",
        "plt.show()\n"
      ],
      "metadata": {
        "colab": {
          "base_uri": "https://localhost:8080/",
          "height": 719
        },
        "id": "GjxMu5af-t5J",
        "outputId": "47c66eed-cec4-49ca-8a02-dd2ea8df3942"
      },
      "execution_count": null,
      "outputs": [
        {
          "output_type": "stream",
          "name": "stderr",
          "text": [
            "<ipython-input-14-9213742ee8ed>:6: FutureWarning: \n",
            "\n",
            "Passing `palette` without assigning `hue` is deprecated and will be removed in v0.14.0. Assign the `x` variable to `hue` and set `legend=False` for the same effect.\n",
            "\n",
            "  sns.barplot(x='league', y='win_percentage', data=avg_win_percentage, palette='magma')\n"
          ]
        },
        {
          "output_type": "display_data",
          "data": {
            "text/plain": [
              "<Figure size 1000x600 with 1 Axes>"
            ],
            "image/png": "[encoded data removed]"
          },
          "metadata": {}
        }
      ]
    },
    {
      "cell_type": "code",
      "source": [
        "\n",
        "\n",
        "# Définition de la taille de la figure\n",
        "plt.figure(figsize=(12, 8))\n",
        "\n",
        "# Création d'un diagramme en boîte pour chaque ligue\n",
        "sns.boxplot(x='league', y='goal_diff', data=combined_df, palette='Set3')\n",
        "plt.xlabel('Ligue')\n",
        "plt.ylabel('Différence de buts')\n",
        "plt.title(\"Écart entre les équipes de chaque ligue (Différence de buts)\")\n",
        "plt.xticks(rotation=45)\n",
        "plt.show()\n"
      ],
      "metadata": {
        "colab": {
          "base_uri": "https://localhost:8080/",
          "height": 875
        },
        "id": "6HpvKI7UEwd_",
        "outputId": "2d16bdd3-39b1-4cc8-d0f2-0f60691f6643"
      },
      "execution_count": null,
      "outputs": [
        {
          "output_type": "stream",
          "name": "stderr",
          "text": [
            "<ipython-input-15-1e2270c33097>:5: FutureWarning: \n",
            "\n",
            "Passing `palette` without assigning `hue` is deprecated and will be removed in v0.14.0. Assign the `x` variable to `hue` and set `legend=False` for the same effect.\n",
            "\n",
            "  sns.boxplot(x='league', y='goal_diff', data=combined_df, palette='Set3')\n"
          ]
        },
        {
          "output_type": "display_data",
          "data": {
            "text/plain": [
              "<Figure size 1200x800 with 1 Axes>"
            ],
            "image/png": "[encoded data removed]"
          },
          "metadata": {}
        }
      ]
    },
    {
      "cell_type": "markdown",
      "source": [
        "# Feature engineering"
      ],
      "metadata": {
        "id": "2Bv-5vOcK1We"
      }
    },
    {
      "cell_type": "code",
      "source": [
        "label_encoder = LabelEncoder()\n",
        "combined_df['team'] = label_encoder.fit_transform(combined_df['team'])\n",
        "combined_df['season'] = label_encoder.fit_transform(combined_df['season'])\n",
        "\n",
        "categorical_cols = ['league', 'team', 'season']\n",
        "numeric_cols = ['point', 'played', 'won', 'drawn', 'lost', 'goal_scored', 'goal_conceded', 'goal_diff',\n",
        "                'win_percentage', 'loss_percentage', 'goals_per_game', 'goals_against_per_game']\n",
        "\n",
        "one_hot_encoder = OneHotEncoder(sparse=False)\n",
        "combined_df_encoded = one_hot_encoder.fit_transform(combined_df[categorical_cols])\n",
        "\n",
        "scaler = StandardScaler()\n",
        "combined_df_numeric = scaler.fit_transform(combined_df[numeric_cols])\n",
        "\n",
        "X = np.concatenate([combined_df_encoded, combined_df_numeric], axis=1)\n",
        "\n",
        "# Define the target variable\n",
        "league_rankings = {'premierleague': 1, 'bundesliga': 2, 'seriea': 3, 'ligue1': 4}\n",
        "combined_df['league_rank'] = combined_df['league'].map(league_rankings)\n",
        "\n",
        "# Split the data into features and target\n",
        "X = combined_df.drop(['league', 'league_rank'], axis=1)\n",
        "y = combined_df['league_rank']\n",
        "\n",
        "# Split the data into training and testing sets\n",
        "X_train, X_test, y_train, y_test = train_test_split(X, y, test_size=0.2, random_state=42)\n",
        "\n",
        "# Hyperparameter tuning\n",
        "param_grid = {\n",
        "    'n_estimators': [100, 200, 300],\n",
        "    'max_depth': [None, 10, 20],\n",
        "    'min_samples_split': [2, 5, 10]\n",
        "}\n",
        "\n",
        "grid_search = GridSearchCV(RandomForestRegressor(random_state=42), param_grid, cv=5, scoring='neg_mean_squared_error')\n",
        "grid_search.fit(X_train, y_train)\n",
        "\n",
        "print(\"Meilleurs hyperparamètres:\", grid_search.best_params_)\n",
        "print(\"Meilleur score de validation croisée:\", -grid_search.best_score_)\n",
        "\n",
        "# Evaluate the best model on the test set\n",
        "best_model = grid_search.best_estimator_\n",
        "y_pred = best_model.predict(X_test)\n",
        "\n",
        "predicted_league_rankings = {1: 'premierleague', 2: 'bundesliga', 3: 'seriea', 4: 'ligue1'}\n",
        "predicted_league = predicted_league_rankings[int(round(y_pred.mean()))]\n",
        "mse = mean_squared_error(y_test, y_pred)\n",
        "r2 = r2_score(y_test, y_pred)\n",
        "print(f\"Mean Squared Error: {mse:.2f}\")\n",
        "print(f\"R-squared: {r2:.2f}\")\n",
        "print(\"La meilleure ligue est :\", predicted_league)\n",
        "\n",
        "print(\"Y pred mean :\", y_pred.mean())\n"
      ],
      "metadata": {
        "colab": {
          "base_uri": "https://localhost:8080/"
        },
        "id": "U9UrowjkCWX-",
        "outputId": "797f732f-52ca-4e96-dc2b-d8521816e3c9"
      },
      "execution_count": null,
      "outputs": [
        {
          "output_type": "stream",
          "name": "stderr",
          "text": [
            "/usr/local/lib/python3.10/dist-packages/sklearn/preprocessing/_encoders.py:868: FutureWarning: `sparse` was renamed to `sparse_output` in version 1.2 and will be removed in 1.4. `sparse_output` is ignored unless you leave `sparse` to its default value.\n",
            "  warnings.warn(\n"
          ]
        },
        {
          "output_type": "stream",
          "name": "stdout",
          "text": [
            "Meilleurs hyperparamètres: {'max_depth': None, 'min_samples_split': 2, 'n_estimators': 300}\n",
            "Meilleur score de validation croisée: 0.8045703185981681\n",
            "Mean Squared Error: 0.55\n",
            "R-squared: 0.53\n",
            "La meilleure ligue est : bundesliga\n",
            "Y pred mean : 2.4610683760683765\n"
          ]
        }
      ]
    }
  ]
}