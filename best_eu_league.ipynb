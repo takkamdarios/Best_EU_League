{
  "cells": [
    {
      "cell_type": "markdown",
      "metadata": {
        "id": "-fzFFzvmFNmb"
      },
      "source": [
        "#Path"
      ]
    },
    {
      "cell_type": "code",
      "execution_count": null,
      "metadata": {
        "id": "QqwGPBLyFO6O"
      },
      "outputs": [],
      "source": [
        "ligue_1_url = 'https://www.ligue1.com/ranking'\n",
        "la_liga_url = 'https://www.laliga.com/en-GB/laliga-easports/standing'\n",
        "bundesliga_url = 'https://www.bundesliga.com/en/bundesliga/table'\n",
        "serie_a_url = 'https://www.legaseriea.it/en/serie-a/classifica'\n",
        "serie_a_api = 'https://www.legaseriea.it/api/stats/Classificacompleta'\n",
        "premier_league_url = 'https://www.premierleague.com/tables'\n",
        "premier_league_api = 'https://footballapi.pulselive.com/football/standings'\n",
        "dataset_brut_url = '/content/drive/MyDrive/4MAC/datasets/brut'\n",
        "dataset_processed_url = '/content/drive/MyDrive/4MAC/datasets/processed'"
      ]
    },
    {
      "cell_type": "code",
      "execution_count": 2,
      "metadata": {},
      "outputs": [],
      "source": [
        "#Import"
      ]
    },
    {
      "cell_type": "code",
      "execution_count": null,
      "metadata": {},
      "outputs": [],
      "source": [
        "from bs4 import BeautifulSoup as BS\n",
        "import os, os.path as path\n",
        "import requests as request\n",
        "from matplotlib import pyplot as plt\n",
        "import numpy as np\n",
        "from sklearn.linear_model import LinearRegression\n",
        "from sklearn.preprocessing import LabelEncoder, OneHotEncoder, StandardScaler\n",
        "from sklearn.metrics import r2_score, mean_squared_error\n",
        "import seaborn as sns\n",
        "from sklearn.preprocessing import PolynomialFeatures\n",
        "%matplotlib inline\n",
        "import json\n",
        "import pandas as pd\n",
        "from sklearn.model_selection import train_test_split, GridSearchCV\n",
        "from sklearn.ensemble import RandomForestRegressor\n",
        "from sklearn.pipeline import Pipeline"
      ]
    }
  ],
  "metadata": {
    "colab": {
      "collapsed_sections": [
        "PEI5XNoRjn0X",
        "x8G40xTFMx4j",
        "6Y1MaFBkjjGQ",
        "ceYh28Wx6L_U",
        "EJPGFExaWJCa",
        "mUYwaGeOiiz_",
        "keHP9qpglIFR"
      ],
      "provenance": []
    },
    "kernelspec": {
      "display_name": "Python 3",
      "name": "python3"
    },
    "language_info": {
      "name": "python"
    }
  },
  "nbformat": 4,
  "nbformat_minor": 0
}
