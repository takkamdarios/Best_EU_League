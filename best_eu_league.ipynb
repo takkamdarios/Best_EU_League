{
  "cells": [
    {
      "cell_type": "markdown",
      "metadata": {
        "id": "-fzFFzvmFNmb"
      },
      "source": [
        "#Path"
      ]
    },
    {
      "cell_type": "code",
      "execution_count": null,
      "metadata": {
        "id": "QqwGPBLyFO6O"
      },
      "outputs": [],
      "source": [
        "ligue_1_url = 'https://www.ligue1.com/ranking'\n",
        "la_liga_url = 'https://www.laliga.com/en-GB/laliga-easports/standing'\n",
        "bundesliga_url = 'https://www.bundesliga.com/en/bundesliga/table'\n",
        "serie_a_url = 'https://www.legaseriea.it/en/serie-a/classifica'\n",
        "serie_a_api = 'https://www.legaseriea.it/api/stats/Classificacompleta'\n",
        "premier_league_url = 'https://www.premierleague.com/tables'\n",
        "premier_league_api = 'https://footballapi.pulselive.com/football/standings'\n",
        "dataset_brut_url = '/content/drive/MyDrive/4MAC/datasets/brut'\n",
        "dataset_processed_url = '/content/drive/MyDrive/4MAC/datasets/processed'"
      ]
    },
    {
      "cell_type": "code",
      "execution_count": 2,
      "metadata": {},
      "outputs": [],
      "source": [
        "#Import"
      ]
    },
    {
      "cell_type": "code",
      "execution_count": null,
      "metadata": {},
      "outputs": [],
      "source": [
        "from bs4 import BeautifulSoup as BS\n",
        "import os, os.path as path\n",
        "import requests as request\n",
        "from matplotlib import pyplot as plt\n",
        "import numpy as np\n",
        "from sklearn.linear_model import LinearRegression\n",
        "from sklearn.preprocessing import LabelEncoder, OneHotEncoder, StandardScaler\n",
        "from sklearn.metrics import r2_score, mean_squared_error\n",
        "import seaborn as sns\n",
        "from sklearn.preprocessing import PolynomialFeatures\n",
        "%matplotlib inline\n",
        "import json\n",
        "import pandas as pd\n",
        "from sklearn.model_selection import train_test_split, GridSearchCV\n",
        "from sklearn.ensemble import RandomForestRegressor\n",
        "from sklearn.pipeline import Pipeline"
      ]
    },
    {
      "cell_type": "code",
      "execution_count": 3,
      "metadata": {},
      "outputs": [],
      "source": [
        "#Constant"
      ]
    },
    {
      "cell_type": "code",
      "execution_count": null,
      "metadata": {},
      "outputs": [],
      "source": [
        "COLUMNS = ['id', 'team', 'point', 'played', 'won', 'drawn', 'lost', 'goal_scored', 'goal_conceded', 'goal_diff']\n",
        "SEASONS = {\n",
        "    '2022-2023':'2022-23',\n",
        "    '2021-2022':'2021-22',\n",
        "    '2020-2021':'2020-21',\n",
        "    '2019-2020':'2019-20',\n",
        "    '2018-2019':'2018-19'\n",
        "}\n",
        "HEADERS = {\n",
        "    'User-Agent': 'Mozilla/5.0 (Macintosh; Intel Mac OS X 10_11_5) \\\n",
        "                    AppleWebKit/537.36 (KHTML, like Gecko) Chrome/50.0.2661.102 Safari/537.36'\n",
        "}"
      ]
    },
    {
      "cell_type": "code",
      "execution_count": null,
      "metadata": {},
      "outputs": [],
      "source": [
        "#Function"
      ]
    },
    {
      "cell_type": "code",
      "execution_count": 4,
      "metadata": {},
      "outputs": [],
      "source": [
        "def append_team_data(team_list, id, name, point, played, won, drawn, lost, goal_scored, goal_conceded, goal_diff):\n",
        "    team = []\n",
        "    team.append(id)\n",
        "    team.append(name)\n",
        "    team.append(point)\n",
        "    team.append(played)\n",
        "    team.append(won)\n",
        "    team.append(drawn)\n",
        "    team.append(lost)\n",
        "    team.append(goal_scored)\n",
        "    team.append(goal_conceded)\n",
        "    team.append(goal_diff)\n",
        "\n",
        "    team_list.append(team)"
      ]
    }
  ],
  "metadata": {
    "colab": {
      "collapsed_sections": [
        "PEI5XNoRjn0X",
        "x8G40xTFMx4j",
        "6Y1MaFBkjjGQ",
        "ceYh28Wx6L_U",
        "EJPGFExaWJCa",
        "mUYwaGeOiiz_",
        "keHP9qpglIFR"
      ],
      "provenance": []
    },
    "kernelspec": {
      "display_name": "Python 3",
      "name": "python3"
    },
    "language_info": {
      "name": "python"
    }
  },
  "nbformat": 4,
  "nbformat_minor": 0
}
